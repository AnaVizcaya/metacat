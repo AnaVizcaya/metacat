{
 "cells": [
  {
   "cell_type": "code",
   "execution_count": 1,
   "id": "7748ce91-a698-49a5-b873-6e6ca6b7d7d9",
   "metadata": {},
   "outputs": [],
   "source": [
    "from json_path import compile\n",
    "import json"
   ]
  },
  {
   "cell_type": "code",
   "execution_count": 2,
   "id": "97b080c7-08a0-45eb-89a0-92ebd05a744a",
   "metadata": {},
   "outputs": [],
   "source": [
    "data = json.loads(\"\"\"\n",
    "{\n",
    "  \"track\": {\n",
    "    \"segments\": [\n",
    "      {\n",
    "        \"location\":   [ 47.763, 13.4034 ],\n",
    "        \"start time\": \"2018-10-14 10:05:14\",\n",
    "        \"HR\": 73\n",
    "      },\n",
    "      {\n",
    "        \"location\":   [ 47.706, 13.2635 ],\n",
    "        \"start time\": \"2018-10-14 10:39:21\",\n",
    "        \"HR\": 135\n",
    "      }\n",
    "    ]\n",
    "  }\n",
    "}\"\"\")\n",
    "example = '$.track.segments[*] ? (@.HR > 80).\"start time\"'\n",
    "exp = compile(example)"
   ]
  },
  {
   "cell_type": "code",
   "execution_count": 3,
   "id": "0b217f01-6d25-469c-8c6c-efc9c6a74180",
   "metadata": {},
   "outputs": [
    {
     "data": {
      "text/plain": [
       "['2018-10-14 10:39:21']"
      ]
     },
     "execution_count": 3,
     "metadata": {},
     "output_type": "execute_result"
    }
   ],
   "source": [
    "exp(data)"
   ]
  },
  {
   "cell_type": "code",
   "execution_count": null,
   "id": "2909200a-cb66-40b4-a731-d7028e53a560",
   "metadata": {},
   "outputs": [],
   "source": []
  }
 ],
 "metadata": {
  "kernelspec": {
   "display_name": "Python 3",
   "language": "python",
   "name": "python3"
  },
  "language_info": {
   "codemirror_mode": {
    "name": "ipython",
    "version": 3
   },
   "file_extension": ".py",
   "mimetype": "text/x-python",
   "name": "python",
   "nbconvert_exporter": "python",
   "pygments_lexer": "ipython3",
   "version": "3.7.3"
  }
 },
 "nbformat": 4,
 "nbformat_minor": 5
}
